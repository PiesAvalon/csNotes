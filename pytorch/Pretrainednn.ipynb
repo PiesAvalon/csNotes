{
 "cells": [
  {
   "cell_type": "markdown",
   "metadata": {},
   "source": [
    "# 现有网络模型的使用 笔记\n",
    "教程视频链接：https://www.bilibili.com/video/BV1hE411t7RN\n",
    "\n",
    "这篇笔记对应视频合集中的\n",
    "- 现有网络模型的使用及修改\n",
    "\n",
    "官方文档：https://pytorch.org/pytorch-domains\n",
    "\n",
    "pytorch提供了大量可用于处理图片、音频、文本等形式数据的网络模型，可以方便的使用和修改，这里用`torchvision`中的分类（classification）模型VGG16举例\n",
    "\n",
    "VGG16官方文档：https://pytorch.org/vision/stable/models/generated/torchvision.models.vgg16.html#torchvision.models.vgg16"
   ]
  },
  {
   "cell_type": "code",
   "execution_count": null,
   "metadata": {},
   "outputs": [],
   "source": [
    "import torchvision\n",
    "\n",
    "#pretrained参数会决定初始权重是否为随机\n",
    "vgg16_false = torchvision.models.vgg16(pretrained=False)\n",
    "vgg16_true = torchvision.models.vgg16(pretrained=True)"
   ]
  },
  {
   "cell_type": "markdown",
   "metadata": {},
   "source": [
    "新版本中，取消了pretrained参数，可以用weights参数选择预训练的参数："
   ]
  },
  {
   "cell_type": "code",
   "execution_count": null,
   "metadata": {},
   "outputs": [],
   "source": [
    "vgg16_false = torchvision.models.vgg16(weights=torchvision.models.VGG16_Weights.DEFAULT)#表示用vgg16预训练的权重\n",
    "vgg16_true = torchvision.models.vgg16(weights=None)#表示用默认的参数"
   ]
  },
  {
   "cell_type": "markdown",
   "metadata": {},
   "source": [
    "可以通过修改神经网络中的层达到不同效果："
   ]
  },
  {
   "cell_type": "code",
   "execution_count": null,
   "metadata": {},
   "outputs": [],
   "source": [
    "import torch\n",
    "\n",
    "train_data = torchvision.datasets.CIFAR10(root='../dataset', train=True, transform=torchvision.transforms.ToTensor(), download=False)\n",
    "\n",
    "vgg16_true = torchvision.models.vgg16(weights=None)#表示用默认的参数\n",
    "#在最后添加层\n",
    "vgg16_true.add_module('add_linear', torch.nn.Linear(1000, 10))\n",
    "#在特定的位置添加\n",
    "vgg16_true.classifier.add_module('add_linear02', torch.nn.Linear(1000, 10))\n",
    "#修改层\n",
    "vgg16_true.classifier[5] = torch.nn.Linear(111, 10)\n",
    "print(vgg16_true)"
   ]
  }
 ],
 "metadata": {
  "kernelspec": {
   "display_name": "pytorch250115",
   "language": "python",
   "name": "python3"
  },
  "language_info": {
   "codemirror_mode": {
    "name": "ipython",
    "version": 3
   },
   "file_extension": ".py",
   "mimetype": "text/x-python",
   "name": "python",
   "nbconvert_exporter": "python",
   "pygments_lexer": "ipython3",
   "version": "3.10.13"
  }
 },
 "nbformat": 4,
 "nbformat_minor": 2
}
