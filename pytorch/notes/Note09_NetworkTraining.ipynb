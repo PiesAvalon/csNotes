{
 "cells": [
  {
   "cell_type": "markdown",
   "metadata": {},
   "source": [
    "# 模型训练流程 笔记\n",
    "教程视频链接：https://www.bilibili.com/video/BV1hE411t7RN\n",
    "\n",
    "这篇笔记对应视频合集中的\n",
    "- 完整的模型训练套路（一）\n",
    "- 完整的模型训练套路（二）\n",
    "- 完整的模型训练套路（三）\n",
    "\n",
    "本节内容是前面几节内容的汇总，总结了从创建数据集到构建神经网络再到训练模型参数的过程，这篇笔记中的代码大部分与前面的相同。\n",
    "\n",
    "## 1.准备数据集\n"
   ]
  },
  {
   "cell_type": "code",
   "execution_count": 1,
   "metadata": {},
   "outputs": [
    {
     "name": "stdout",
     "output_type": "stream",
     "text": [
      "50000 10000\n"
     ]
    }
   ],
   "source": [
    "import torchvision\n",
    "\n",
    "train_data = torchvision.datasets.CIFAR10(root='../dataset', train=True, transform=torchvision.transforms.ToTensor(), download=False)\n",
    "test_data = torchvision.datasets.CIFAR10(root='../dataset', train=False, transform=torchvision.transforms.ToTensor(), download=False)\n",
    "\n",
    "#数据集长度\n",
    "train_data_size = len(train_data)#50000\n",
    "test_data_size = len(test_data)#10000\n",
    "print(train_data_size, test_data_size)"
   ]
  },
  {
   "cell_type": "markdown",
   "metadata": {},
   "source": [
    "## 2.用dataloader加载数据集"
   ]
  },
  {
   "cell_type": "code",
   "execution_count": 2,
   "metadata": {},
   "outputs": [],
   "source": [
    "import torch\n",
    "\n",
    "train_dataloader = torch.utils.data.DataLoader(dataset=train_data, batch_size=64)\n",
    "test_dataloader = torch.utils.data.DataLoader(dataset=test_data, batch_size=64)"
   ]
  },
  {
   "cell_type": "markdown",
   "metadata": {},
   "source": [
    "## 3.搭建神经网络"
   ]
  },
  {
   "cell_type": "code",
   "execution_count": 3,
   "metadata": {},
   "outputs": [],
   "source": [
    "#此处类定义代码可以放在另一个文件中\n",
    "class Tudui(torch.nn.Module):\n",
    "    def __init__(self):\n",
    "        super().__init__()\n",
    "        self.model = torch.nn.Sequential(\n",
    "            torch.nn.Conv2d(in_channels=3, out_channels=32, kernel_size=5, padding=2), #这里一定记得加逗号\n",
    "            torch.nn.MaxPool2d(kernel_size=2, stride=2),\n",
    "            torch.nn.Conv2d(in_channels=32, out_channels=32, kernel_size=5, padding=2),\n",
    "            torch.nn.MaxPool2d(kernel_size=2, stride=2),\n",
    "            torch.nn.Conv2d(in_channels=32, out_channels=64, kernel_size=5, padding=2),\n",
    "            torch.nn.MaxPool2d(kernel_size=2, stride=2),\n",
    "            torch.nn.Flatten(),\n",
    "            torch.nn.Linear(in_features=1024, out_features=10)\n",
    "        )\n",
    "    def forward(self, x):\n",
    "        return self.model(x)"
   ]
  },
  {
   "cell_type": "code",
   "execution_count": 40,
   "metadata": {},
   "outputs": [
    {
     "data": {
      "text/plain": [
       "torch.Size([64, 10])"
      ]
     },
     "execution_count": 40,
     "metadata": {},
     "output_type": "execute_result"
    }
   ],
   "source": [
    "#检验网络创建的正确性，通过输入输出的数据shape判断\n",
    "tudui = Tudui()\n",
    "input = torch.ones((64, 3, 32, 32))\n",
    "output = tudui(input)\n",
    "output.shape"
   ]
  },
  {
   "cell_type": "markdown",
   "metadata": {},
   "source": [
    "## 4.创建损失函数与优化器"
   ]
  },
  {
   "cell_type": "code",
   "execution_count": 41,
   "metadata": {},
   "outputs": [],
   "source": [
    "#损失函数\n",
    "loss_fn = torch.nn.CrossEntropyLoss()\n",
    "#优化器\n",
    "learning_rate = 0.001#1e-2\n",
    "optimizer = torch.optim.SGD(params=tudui.parameters(), lr=learning_rate)"
   ]
  },
  {
   "cell_type": "markdown",
   "metadata": {},
   "source": [
    "## 5.设置训练网络参数"
   ]
  },
  {
   "cell_type": "code",
   "execution_count": null,
   "metadata": {},
   "outputs": [],
   "source": [
    "from torch.utils.tensorboard import SummaryWriter\n",
    "\n",
    "#训练次数\n",
    "total_train_step = 0\n",
    "#测试次数\n",
    "total_test_step = 0\n",
    "#训练轮数\n",
    "epoch = 10\n",
    "\n",
    "\n",
    "writer = SummaryWriter('../logs')\n",
    "\n",
    "for i in range(epoch):\n",
    "    epoch_loss = 0\n",
    "    for data in train_dataloader:\n",
    "        inputs, targets = data\n",
    "        outputs = tudui(inputs)\n",
    "        optimizer.zero_grad()\n",
    "        result_loss = loss_fn(outputs, targets)\n",
    "        result_loss.backward()\n",
    "        optimizer.step()\n",
    "        epoch_loss += result_loss\n",
    "        total_train_step += 1\n",
    "        if total_train_step % 100 == 0:\n",
    "            writer.add_scalar(\"train_loss\", result_loss, total_train_step)\n",
    "    print(\"第{0}轮，第{1}步，loss为{2}\".format(i, total_train_step, epoch_loss))\n",
    "    \n",
    "    #测试\n",
    "    total_test_loss = 0\n",
    "    with torch.no_grad():\n",
    "        for data in test_dataloader:\n",
    "            img, targets = data\n",
    "            outputs = tudui(img)\n",
    "            total_test_loss += loss_fn(outputs, targets)\n",
    "    print(\"测试集上的loss为{0}\".format(total_test_loss))\n",
    "    writer.add_scalar('test_loss', total_test_loss, total_test_step)\n",
    "    total_test_step += 1\n",
    "\n",
    "writer.close()"
   ]
  },
  {
   "cell_type": "markdown",
   "metadata": {},
   "source": [
    "## 6.显示正确率\n",
    "用tensor数据的argmax方法可以得到tensor某一维度数据的最大值"
   ]
  },
  {
   "cell_type": "code",
   "execution_count": 16,
   "metadata": {},
   "outputs": [
    {
     "name": "stdout",
     "output_type": "stream",
     "text": [
      "tensor(3)\n",
      "tensor([1, 1])\n",
      "tensor([0, 1])\n"
     ]
    }
   ],
   "source": [
    "output = torch.tensor([[0.1, 0.0], \n",
    "                       [0.3, 0.4]])\n",
    "print(output.argmax())#flatten后的\n",
    "print(output.argmax(0))#列\n",
    "print(output.argmax(1))#行"
   ]
  },
  {
   "cell_type": "code",
   "execution_count": null,
   "metadata": {},
   "outputs": [],
   "source": [
    "total_train_step = 0\n",
    "total_test_step = 0\n",
    "epoch = 10\n",
    "\n",
    "#训练\n",
    "tudui.train()#对部分层有作用，加上即可\n",
    "for i in range(epoch):\n",
    "    epoch_loss = 0\n",
    "    epoch_train_step = 0\n",
    "    epoch_correct_step = 0\n",
    "    for data in train_dataloader:\n",
    "        inputs, targets = data\n",
    "        outputs = tudui(inputs)\n",
    "        optimizer.zero_grad()\n",
    "        result_loss = loss_fn(outputs, targets)\n",
    "\n",
    "        # print(outputs.argmax(1))\n",
    "        for j in range(len(targets)):\n",
    "            if outputs.argmax(1)[j].item() == targets[j].item():\n",
    "                epoch_correct_step += 1\n",
    "            epoch_train_step += 1\n",
    "\n",
    "        result_loss.backward()\n",
    "        optimizer.step()\n",
    "        epoch_loss += result_loss\n",
    "        total_train_step += 1\n",
    "    print(\"第{0}轮，第{1}步，loss为{2}，正确率为{3}\".format(i, total_train_step, epoch_loss, epoch_correct_step / epoch_train_step))\n",
    "    \n",
    "    #测试\n",
    "    tudui.eval()\n",
    "    total_test_loss = 0\n",
    "    epoch_test_step = 0\n",
    "    epoch_test_correct = 0\n",
    "    with torch.no_grad():\n",
    "        for data in test_dataloader:\n",
    "            img, targets = data\n",
    "            outputs = tudui(img)\n",
    "            total_test_loss += loss_fn(outputs, targets)\n",
    "\n",
    "            for j in range(len(targets)):\n",
    "                if outputs.argmax(1)[j].item() == targets[j].item():\n",
    "                    epoch_test_correct += 1\n",
    "                epoch_test_step += 1\n",
    "    print(\"测试集上的loss为{0}，正确率为{1}\".format(total_test_loss, epoch_test_correct / epoch_test_step))\n",
    "    total_test_step += 1"
   ]
  },
  {
   "cell_type": "markdown",
   "metadata": {},
   "source": [
    "## 7.保存模型"
   ]
  },
  {
   "cell_type": "code",
   "execution_count": 44,
   "metadata": {},
   "outputs": [
    {
     "name": "stdout",
     "output_type": "stream",
     "text": [
      "模型已保存\n"
     ]
    }
   ],
   "source": [
    "#保存网络结构和权重\n",
    "torch.save(tudui, \"tudui_{0}.pth\".format(epoch))\n",
    "\n",
    "#仅保留权重\n",
    "dic = tudui.state_dict()\n",
    "torch.save(dic, \"tudui_dic_{0}\".format(epoch))\n",
    "print(\"模型已保存\")"
   ]
  }
 ],
 "metadata": {
  "kernelspec": {
   "display_name": "pytorch250115",
   "language": "python",
   "name": "python3"
  },
  "language_info": {
   "codemirror_mode": {
    "name": "ipython",
    "version": 3
   },
   "file_extension": ".py",
   "mimetype": "text/x-python",
   "name": "python",
   "nbconvert_exporter": "python",
   "pygments_lexer": "ipython3",
   "version": "3.10.13"
  }
 },
 "nbformat": 4,
 "nbformat_minor": 2
}
