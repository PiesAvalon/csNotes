{
 "cells": [
  {
   "cell_type": "markdown",
   "metadata": {},
   "source": [
    "# 用GPU训练 笔记\n",
    "教程视频链接：https://www.bilibili.com/video/BV1hE411t7RN\n",
    "\n",
    "这篇笔记对应视频合集中的\n",
    "- 利用GPU训练（一）\n",
    "- 利用GPU训练（二）\n",
    "\n",
    "## 方法1\n",
    "调用以下元素的cuda方法：\n",
    "1. 网络模型\n",
    "2. 数据（输入，标注）\n",
    "3. 损失函数\n",
    "\n",
    "## 方法2（更常用）\n",
    "定义设备`device = torch.device(\"cuda\")`\n",
    "\n",
    "若有多个cuda设备``device = torch.device(\"cuda:0\")`\n",
    "\n",
    "对上述元素调用`to(device)`方法"
   ]
  },
  {
   "cell_type": "code",
   "execution_count": 10,
   "metadata": {},
   "outputs": [
    {
     "name": "stdout",
     "output_type": "stream",
     "text": [
      "50000 10000\n"
     ]
    }
   ],
   "source": [
    "import torchvision\n",
    "\n",
    "train_data = torchvision.datasets.CIFAR10(root='../dataset', train=True, transform=torchvision.transforms.ToTensor(), download=False)\n",
    "test_data = torchvision.datasets.CIFAR10(root='../dataset', train=False, transform=torchvision.transforms.ToTensor(), download=False)\n",
    "\n",
    "#数据集长度\n",
    "train_data_size = len(train_data)#50000\n",
    "test_data_size = len(test_data)#10000\n",
    "print(train_data_size, test_data_size)\n",
    "\n",
    "import torch\n",
    "\n",
    "train_dataloader = torch.utils.data.DataLoader(dataset=train_data, batch_size=64)\n",
    "test_dataloader = torch.utils.data.DataLoader(dataset=test_data, batch_size=64)\n",
    "\n",
    "#此处类定义代码可以放在另一个文件中\n",
    "class Tudui(torch.nn.Module):\n",
    "    def __init__(self):\n",
    "        super().__init__()\n",
    "        self.model = torch.nn.Sequential(\n",
    "            torch.nn.Conv2d(in_channels=3, out_channels=32, kernel_size=5, padding=2), #这里一定记得加逗号\n",
    "            torch.nn.MaxPool2d(kernel_size=2, stride=2),\n",
    "            torch.nn.Conv2d(in_channels=32, out_channels=32, kernel_size=5, padding=2),\n",
    "            torch.nn.MaxPool2d(kernel_size=2, stride=2),\n",
    "            torch.nn.Conv2d(in_channels=32, out_channels=64, kernel_size=5, padding=2),\n",
    "            torch.nn.MaxPool2d(kernel_size=2, stride=2),\n",
    "            torch.nn.Flatten(),\n",
    "            torch.nn.Linear(in_features=1024, out_features=10)\n",
    "        )\n",
    "    def forward(self, x):\n",
    "        return self.model(x)\n",
    "tudui = Tudui()\n",
    "\n",
    "#------------------------------------------\n",
    "#方法1\n",
    "tudui = tudui.cuda()\n",
    "#------------------------------------------\n",
    "\n",
    "#损失函数\n",
    "loss_fn = torch.nn.CrossEntropyLoss()\n",
    "\n",
    "#------------------------------------------\n",
    "#方法2\n",
    "device = torch.device(\"cuda\")\n",
    "loss_fn = loss_fn.to(device)\n",
    "#------------------------------------------\n",
    "\n",
    "#优化器\n",
    "learning_rate = 0.001#1e-2\n",
    "optimizer = torch.optim.SGD(params=tudui.parameters(), lr=learning_rate)"
   ]
  },
  {
   "cell_type": "code",
   "execution_count": null,
   "metadata": {},
   "outputs": [],
   "source": [
    "total_train_step = 0\n",
    "total_test_step = 0\n",
    "epoch = 100\n",
    "\n",
    "for i in range(epoch):\n",
    "    epoch_loss = 0\n",
    "    for data in train_dataloader:\n",
    "        inputs, targets = data\n",
    "        #------------------------------------------\n",
    "        inputs = inputs.cuda()\n",
    "        targets = targets.cuda()\n",
    "        #------------------------------------------\n",
    "        outputs = tudui(inputs)\n",
    "        optimizer.zero_grad()\n",
    "        result_loss = loss_fn(outputs, targets)\n",
    "        result_loss.backward()\n",
    "        optimizer.step()\n",
    "        epoch_loss += result_loss\n",
    "        total_train_step += 1\n",
    "    print(\"第{0}轮，第{1}步，loss为{2}\".format(i, total_train_step, epoch_loss))\n",
    "    \n",
    "    #测试\n",
    "    total_test_loss = 0\n",
    "    with torch.no_grad():\n",
    "        for data in test_dataloader:\n",
    "            img, targets = data\n",
    "            #------------------------------------------\n",
    "            if torch.cuda.is_available():#良好的编程习惯\n",
    "                img = img.cuda()\n",
    "                targets = targets.cuda()\n",
    "            #------------------------------------------\n",
    "            outputs = tudui(img)\n",
    "            total_test_loss += loss_fn(outputs, targets)\n",
    "    print(\"测试集上的loss为{0}\".format(total_test_loss))\n",
    "    total_test_step += 1"
   ]
  }
 ],
 "metadata": {
  "kernelspec": {
   "display_name": "pytorch250115",
   "language": "python",
   "name": "python3"
  },
  "language_info": {
   "codemirror_mode": {
    "name": "ipython",
    "version": 3
   },
   "file_extension": ".py",
   "mimetype": "text/x-python",
   "name": "python",
   "nbconvert_exporter": "python",
   "pygments_lexer": "ipython3",
   "version": "3.10.13"
  }
 },
 "nbformat": 4,
 "nbformat_minor": 2
}
